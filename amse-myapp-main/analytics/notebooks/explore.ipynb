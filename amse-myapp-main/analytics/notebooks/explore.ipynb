{
 "cells": [
  {
   "cell_type": "code",
   "execution_count": 1,
   "id": "initial_id",
   "metadata": {
    "ExecuteTime": {
     "end_time": "2024-01-02T20:44:19.616847200Z",
     "start_time": "2024-01-02T20:44:19.584846400Z"
    },
    "collapsed": true
   },
   "outputs": [],
   "source": [
    "import numpy as np\n",
    "import pandas as pd\n",
    "from sklearn.preprocessing import LabelEncoder"
   ]
  },
  {
   "cell_type": "code",
   "execution_count": 2,
   "id": "77974905a01fd53",
   "metadata": {
    "ExecuteTime": {
     "end_time": "2024-01-02T19:09:29.506803700Z",
     "start_time": "2024-01-02T19:09:29.321804400Z"
    },
    "collapsed": false
   },
   "outputs": [],
   "source": [
    "cols = {\n",
    "    'longitude': str,\n",
    "    'latitude': str,\n",
    "    'housing_median_age': str,\n",
    "    'total_rooms': str,\n",
    "    'total_bedrooms': str,\n",
    "    'population': str,\n",
    "    'households': str,\n",
    "    'median_income': str,\n",
    "    'ocean_proximity': str,\n",
    "    'median_house_value' : str\n",
    "}"
   ]
  },
  {
   "cell_type": "code",
   "execution_count": 3,
   "id": "87ea82f880316d1b",
   "metadata": {
    "ExecuteTime": {
     "end_time": "2024-01-02T19:09:30.436608500Z",
     "start_time": "2024-01-02T19:09:29.352802700Z"
    },
    "collapsed": false
   },
   "outputs": [],
   "source": [
    "df = pd.read_csv('../data/1553768847-housing.csv',dtype=cols )"
   ]
  },
  {
   "cell_type": "code",
   "execution_count": 4,
   "id": "af33fd61846c625f",
   "metadata": {
    "ExecuteTime": {
     "end_time": "2024-01-02T19:09:45.226742Z",
     "start_time": "2024-01-02T19:09:45.148742900Z"
    },
    "collapsed": false
   },
   "outputs": [
    {
     "data": {
      "text/plain": [
       "(20640, 10)"
      ]
     },
     "execution_count": 4,
     "metadata": {},
     "output_type": "execute_result"
    }
   ],
   "source": [
    "df.shape"
   ]
  },
  {
   "cell_type": "code",
   "execution_count": 5,
   "id": "21437ae97d919b44",
   "metadata": {
    "ExecuteTime": {
     "end_time": "2024-01-02T19:09:36.884198800Z",
     "start_time": "2024-01-02T19:09:36.653200500Z"
    },
    "collapsed": false
   },
   "outputs": [
    {
     "data": {
      "text/html": [
       "<div>\n",
       "<style scoped>\n",
       "    .dataframe tbody tr th:only-of-type {\n",
       "        vertical-align: middle;\n",
       "    }\n",
       "\n",
       "    .dataframe tbody tr th {\n",
       "        vertical-align: top;\n",
       "    }\n",
       "\n",
       "    .dataframe thead th {\n",
       "        text-align: right;\n",
       "    }\n",
       "</style>\n",
       "<table border=\"1\" class=\"dataframe\">\n",
       "  <thead>\n",
       "    <tr style=\"text-align: right;\">\n",
       "      <th></th>\n",
       "      <th>longitude</th>\n",
       "      <th>latitude</th>\n",
       "      <th>housing_median_age</th>\n",
       "      <th>total_rooms</th>\n",
       "      <th>total_bedrooms</th>\n",
       "      <th>population</th>\n",
       "      <th>households</th>\n",
       "      <th>median_income</th>\n",
       "      <th>ocean_proximity</th>\n",
       "      <th>median_house_value</th>\n",
       "    </tr>\n",
       "  </thead>\n",
       "  <tbody>\n",
       "    <tr>\n",
       "      <th>13224</th>\n",
       "      <td>-117.68</td>\n",
       "      <td>34.03</td>\n",
       "      <td>16</td>\n",
       "      <td>2859</td>\n",
       "      <td>668</td>\n",
       "      <td>1946</td>\n",
       "      <td>591</td>\n",
       "      <td>3.0396</td>\n",
       "      <td>INLAND</td>\n",
       "      <td>124300</td>\n",
       "    </tr>\n",
       "    <tr>\n",
       "      <th>16486</th>\n",
       "      <td>-121.05</td>\n",
       "      <td>38.14</td>\n",
       "      <td>19</td>\n",
       "      <td>3326</td>\n",
       "      <td>561</td>\n",
       "      <td>1544</td>\n",
       "      <td>511</td>\n",
       "      <td>2.9875</td>\n",
       "      <td>INLAND</td>\n",
       "      <td>166300</td>\n",
       "    </tr>\n",
       "    <tr>\n",
       "      <th>7783</th>\n",
       "      <td>-118.06</td>\n",
       "      <td>33.91</td>\n",
       "      <td>36</td>\n",
       "      <td>1360</td>\n",
       "      <td>271</td>\n",
       "      <td>909</td>\n",
       "      <td>275</td>\n",
       "      <td>4.6731</td>\n",
       "      <td>&lt;1H OCEAN</td>\n",
       "      <td>173300</td>\n",
       "    </tr>\n",
       "    <tr>\n",
       "      <th>9400</th>\n",
       "      <td>-122.56</td>\n",
       "      <td>37.91</td>\n",
       "      <td>52</td>\n",
       "      <td>1972</td>\n",
       "      <td>327</td>\n",
       "      <td>755</td>\n",
       "      <td>345</td>\n",
       "      <td>7.1924</td>\n",
       "      <td>NEAR BAY</td>\n",
       "      <td>500001</td>\n",
       "    </tr>\n",
       "    <tr>\n",
       "      <th>6894</th>\n",
       "      <td>-118.11</td>\n",
       "      <td>34.05</td>\n",
       "      <td>23</td>\n",
       "      <td>3436</td>\n",
       "      <td>565</td>\n",
       "      <td>1729</td>\n",
       "      <td>529</td>\n",
       "      <td>5.9941</td>\n",
       "      <td>&lt;1H OCEAN</td>\n",
       "      <td>266700</td>\n",
       "    </tr>\n",
       "  </tbody>\n",
       "</table>\n",
       "</div>"
      ],
      "text/plain": [
       "      longitude latitude housing_median_age total_rooms total_bedrooms  \\\n",
       "13224   -117.68    34.03                 16        2859            668   \n",
       "16486   -121.05    38.14                 19        3326            561   \n",
       "7783    -118.06    33.91                 36        1360            271   \n",
       "9400    -122.56    37.91                 52        1972            327   \n",
       "6894    -118.11    34.05                 23        3436            565   \n",
       "\n",
       "      population households median_income ocean_proximity median_house_value  \n",
       "13224       1946        591        3.0396          INLAND             124300  \n",
       "16486       1544        511        2.9875          INLAND             166300  \n",
       "7783         909        275        4.6731       <1H OCEAN             173300  \n",
       "9400         755        345        7.1924        NEAR BAY             500001  \n",
       "6894        1729        529        5.9941       <1H OCEAN             266700  "
      ]
     },
     "execution_count": 5,
     "metadata": {},
     "output_type": "execute_result"
    }
   ],
   "source": [
    "df.sample(n=5)"
   ]
  },
  {
   "cell_type": "code",
   "execution_count": 5,
   "id": "bc76c40d",
   "metadata": {},
   "outputs": [],
   "source": [
    "label_encoder = LabelEncoder()\n",
    "df['ocean_proximity'] = label_encoder.fit_transform(df['ocean_proximity'])\n",
    "\n",
    "df['total_bedrooms'].fillna(0, inplace=True)"
   ]
  },
  {
   "cell_type": "code",
   "execution_count": 7,
   "id": "d7aaddba9745aa6",
   "metadata": {
    "ExecuteTime": {
     "end_time": "2023-12-31T13:56:33.295536400Z",
     "start_time": "2023-12-31T13:56:33.232634900Z"
    },
    "collapsed": false
   },
   "outputs": [
    {
     "data": {
      "text/plain": [
       "longitude             0.0\n",
       "latitude              0.0\n",
       "housing_median_age    0.0\n",
       "total_rooms           0.0\n",
       "total_bedrooms        0.0\n",
       "population            0.0\n",
       "households            0.0\n",
       "median_income         0.0\n",
       "ocean_proximity       0.0\n",
       "median_house_value    0.0\n",
       "dtype: float64"
      ]
     },
     "execution_count": 7,
     "metadata": {},
     "output_type": "execute_result"
    }
   ],
   "source": [
    "df.isnull().mean(axis=0).sort_values(ascending=False)"
   ]
  },
  {
   "cell_type": "code",
   "execution_count": 6,
   "id": "171c0c69734dd011",
   "metadata": {
    "ExecuteTime": {
     "end_time": "2023-12-31T13:56:34.517513700Z",
     "start_time": "2023-12-31T13:56:34.448957600Z"
    },
    "collapsed": false
   },
   "outputs": [],
   "source": [
    "cols = [\n",
    "    'longitude', \n",
    "    'latitude', \n",
    "    'housing_median_age', \n",
    "    'total_rooms', \n",
    "    'total_bedrooms', \n",
    "    'population', \n",
    "    'households', \n",
    "    'median_income', \n",
    "    'ocean_proximity', \n",
    "    'median_house_value'\n",
    "]"
   ]
  },
  {
   "cell_type": "code",
   "execution_count": 9,
   "id": "c1d9b9030295c8e5",
   "metadata": {
    "ExecuteTime": {
     "end_time": "2023-12-31T13:58:18.215866100Z",
     "start_time": "2023-12-31T13:58:18.190867300Z"
    },
    "collapsed": false
   },
   "outputs": [
    {
     "data": {
      "text/plain": [
       "Index(['longitude', 'latitude', 'housing_median_age', 'total_rooms',\n",
       "       'total_bedrooms', 'population', 'households', 'median_income',\n",
       "       'ocean_proximity', 'median_house_value'],\n",
       "      dtype='object')"
      ]
     },
     "execution_count": 9,
     "metadata": {},
     "output_type": "execute_result"
    }
   ],
   "source": [
    "df.columns"
   ]
  },
  {
   "cell_type": "code",
   "execution_count": 10,
   "id": "744ec26de28c7bc2",
   "metadata": {
    "ExecuteTime": {
     "end_time": "2023-12-31T13:56:37.762004200Z",
     "start_time": "2023-12-31T13:56:37.630007900Z"
    },
    "collapsed": false
   },
   "outputs": [
    {
     "data": {
      "text/html": [
       "<div>\n",
       "<style scoped>\n",
       "    .dataframe tbody tr th:only-of-type {\n",
       "        vertical-align: middle;\n",
       "    }\n",
       "\n",
       "    .dataframe tbody tr th {\n",
       "        vertical-align: top;\n",
       "    }\n",
       "\n",
       "    .dataframe thead th {\n",
       "        text-align: right;\n",
       "    }\n",
       "</style>\n",
       "<table border=\"1\" class=\"dataframe\">\n",
       "  <thead>\n",
       "    <tr style=\"text-align: right;\">\n",
       "      <th></th>\n",
       "      <th>ocean_proximity</th>\n",
       "    </tr>\n",
       "  </thead>\n",
       "  <tbody>\n",
       "    <tr>\n",
       "      <th>count</th>\n",
       "      <td>20640.000000</td>\n",
       "    </tr>\n",
       "    <tr>\n",
       "      <th>mean</th>\n",
       "      <td>1.165843</td>\n",
       "    </tr>\n",
       "    <tr>\n",
       "      <th>std</th>\n",
       "      <td>1.420662</td>\n",
       "    </tr>\n",
       "    <tr>\n",
       "      <th>min</th>\n",
       "      <td>0.000000</td>\n",
       "    </tr>\n",
       "    <tr>\n",
       "      <th>25%</th>\n",
       "      <td>0.000000</td>\n",
       "    </tr>\n",
       "    <tr>\n",
       "      <th>50%</th>\n",
       "      <td>1.000000</td>\n",
       "    </tr>\n",
       "    <tr>\n",
       "      <th>75%</th>\n",
       "      <td>1.000000</td>\n",
       "    </tr>\n",
       "    <tr>\n",
       "      <th>max</th>\n",
       "      <td>4.000000</td>\n",
       "    </tr>\n",
       "  </tbody>\n",
       "</table>\n",
       "</div>"
      ],
      "text/plain": [
       "       ocean_proximity\n",
       "count     20640.000000\n",
       "mean          1.165843\n",
       "std           1.420662\n",
       "min           0.000000\n",
       "25%           0.000000\n",
       "50%           1.000000\n",
       "75%           1.000000\n",
       "max           4.000000"
      ]
     },
     "execution_count": 10,
     "metadata": {},
     "output_type": "execute_result"
    }
   ],
   "source": [
    "df.describe(include=['int64', 'float64'])"
   ]
  },
  {
   "cell_type": "code",
   "execution_count": 7,
   "id": "d4a9e90712ac06e3",
   "metadata": {
    "ExecuteTime": {
     "end_time": "2023-12-31T13:58:51.849933900Z",
     "start_time": "2023-12-31T13:58:51.522919Z"
    },
    "collapsed": false
   },
   "outputs": [
    {
     "data": {
      "text/plain": [
       "Index(['ocean_proximity'], dtype='object')"
      ]
     },
     "execution_count": 7,
     "metadata": {},
     "output_type": "execute_result"
    }
   ],
   "source": [
    "df.select_dtypes(include='number').columns"
   ]
  },
  {
   "cell_type": "code",
   "execution_count": 9,
   "id": "eae36e1b40b6aedd",
   "metadata": {
    "ExecuteTime": {
     "end_time": "2024-01-02T19:06:36.082956Z",
     "start_time": "2024-01-02T19:06:33.246828300Z"
    },
    "collapsed": false
   },
   "outputs": [],
   "source": [
    "from sklearn.model_selection import train_test_split\n",
    "import xgboost as xgb\n",
    "from sklearn.metrics import mean_squared_error\n",
    "from sklearn.model_selection import GridSearchCV"
   ]
  },
  {
   "cell_type": "code",
   "execution_count": 10,
   "id": "545b707e729b0135",
   "metadata": {
    "ExecuteTime": {
     "end_time": "2024-01-02T19:11:08.373787Z",
     "start_time": "2024-01-02T19:11:08.316757600Z"
    },
    "collapsed": false
   },
   "outputs": [],
   "source": [
    "\n",
    "cols = ['total_rooms', 'housing_median_age']\n",
    "df = df.dropna(subset=cols).reset_index(drop=True)"
   ]
  },
  {
   "cell_type": "code",
   "execution_count": 11,
   "id": "3ceff21a6525f59b",
   "metadata": {
    "ExecuteTime": {
     "end_time": "2024-01-02T19:11:09.061574100Z",
     "start_time": "2024-01-02T19:11:09.010574100Z"
    },
    "collapsed": false
   },
   "outputs": [],
   "source": [
    "X, y = df[cols].values, df['median_house_value'].values"
   ]
  },
  {
   "cell_type": "code",
   "execution_count": 61,
   "id": "2f7aa750",
   "metadata": {},
   "outputs": [
    {
     "ename": "ValueError",
     "evalue": "DataFrame.dtypes for data must be int, float, bool or category. When categorical type is supplied, The experimental DMatrix parameter`enable_categorical` must be set to `True`.  Invalid columns:longitude: object, latitude: object, housing_median_age: object, total_rooms: object, total_bedrooms: object, population: object, households: object, median_income: object",
     "output_type": "error",
     "traceback": [
      "\u001b[0;31m---------------------------------------------------------------------------\u001b[0m",
      "\u001b[0;31mValueError\u001b[0m                                Traceback (most recent call last)",
      "Cell \u001b[0;32mIn[61], line 11\u001b[0m\n\u001b[1;32m      8\u001b[0m X_train\u001b[39m.\u001b[39mcolumns \u001b[39m=\u001b[39m [\u001b[39mstr\u001b[39m(col) \u001b[39mfor\u001b[39;00m col \u001b[39min\u001b[39;00m X_train\u001b[39m.\u001b[39mcolumns]\n\u001b[1;32m     10\u001b[0m \u001b[39m# Create DMatrix\u001b[39;00m\n\u001b[0;32m---> 11\u001b[0m dtrain \u001b[39m=\u001b[39m xgb\u001b[39m.\u001b[39;49mDMatrix(X_train, label\u001b[39m=\u001b[39;49my_train)\n\u001b[1;32m     13\u001b[0m \u001b[39m# Hyperparameters grid search\u001b[39;00m\n\u001b[1;32m     14\u001b[0m param_grid \u001b[39m=\u001b[39m {\n\u001b[1;32m     15\u001b[0m     \u001b[39m'\u001b[39m\u001b[39meta\u001b[39m\u001b[39m'\u001b[39m: [\u001b[39m0.01\u001b[39m, \u001b[39m0.1\u001b[39m, \u001b[39m0.2\u001b[39m, \u001b[39m0.3\u001b[39m],\n\u001b[1;32m     16\u001b[0m     \u001b[39m'\u001b[39m\u001b[39mmax_depth\u001b[39m\u001b[39m'\u001b[39m: [\u001b[39m3\u001b[39m, \u001b[39m6\u001b[39m, \u001b[39m9\u001b[39m],\n\u001b[1;32m     17\u001b[0m     \u001b[39m'\u001b[39m\u001b[39mlambda\u001b[39m\u001b[39m'\u001b[39m: [\u001b[39m1\u001b[39m, \u001b[39m5\u001b[39m]\n\u001b[1;32m     18\u001b[0m }\n",
      "File \u001b[0;32m/Library/Frameworks/Python.framework/Versions/3.11/lib/python3.11/site-packages/xgboost/core.py:730\u001b[0m, in \u001b[0;36mrequire_keyword_args.<locals>.throw_if.<locals>.inner_f\u001b[0;34m(*args, **kwargs)\u001b[0m\n\u001b[1;32m    728\u001b[0m \u001b[39mfor\u001b[39;00m k, arg \u001b[39min\u001b[39;00m \u001b[39mzip\u001b[39m(sig\u001b[39m.\u001b[39mparameters, args):\n\u001b[1;32m    729\u001b[0m     kwargs[k] \u001b[39m=\u001b[39m arg\n\u001b[0;32m--> 730\u001b[0m \u001b[39mreturn\u001b[39;00m func(\u001b[39m*\u001b[39;49m\u001b[39m*\u001b[39;49mkwargs)\n",
      "File \u001b[0;32m/Library/Frameworks/Python.framework/Versions/3.11/lib/python3.11/site-packages/xgboost/core.py:857\u001b[0m, in \u001b[0;36mDMatrix.__init__\u001b[0;34m(self, data, label, weight, base_margin, missing, silent, feature_names, feature_types, nthread, group, qid, label_lower_bound, label_upper_bound, feature_weights, enable_categorical, data_split_mode)\u001b[0m\n\u001b[1;32m    854\u001b[0m     \u001b[39massert\u001b[39;00m \u001b[39mself\u001b[39m\u001b[39m.\u001b[39mhandle \u001b[39mis\u001b[39;00m \u001b[39mnot\u001b[39;00m \u001b[39mNone\u001b[39;00m\n\u001b[1;32m    855\u001b[0m     \u001b[39mreturn\u001b[39;00m\n\u001b[0;32m--> 857\u001b[0m handle, feature_names, feature_types \u001b[39m=\u001b[39m dispatch_data_backend(\n\u001b[1;32m    858\u001b[0m     data,\n\u001b[1;32m    859\u001b[0m     missing\u001b[39m=\u001b[39;49m\u001b[39mself\u001b[39;49m\u001b[39m.\u001b[39;49mmissing,\n\u001b[1;32m    860\u001b[0m     threads\u001b[39m=\u001b[39;49m\u001b[39mself\u001b[39;49m\u001b[39m.\u001b[39;49mnthread,\n\u001b[1;32m    861\u001b[0m     feature_names\u001b[39m=\u001b[39;49mfeature_names,\n\u001b[1;32m    862\u001b[0m     feature_types\u001b[39m=\u001b[39;49mfeature_types,\n\u001b[1;32m    863\u001b[0m     enable_categorical\u001b[39m=\u001b[39;49menable_categorical,\n\u001b[1;32m    864\u001b[0m     data_split_mode\u001b[39m=\u001b[39;49mdata_split_mode,\n\u001b[1;32m    865\u001b[0m )\n\u001b[1;32m    866\u001b[0m \u001b[39massert\u001b[39;00m handle \u001b[39mis\u001b[39;00m \u001b[39mnot\u001b[39;00m \u001b[39mNone\u001b[39;00m\n\u001b[1;32m    867\u001b[0m \u001b[39mself\u001b[39m\u001b[39m.\u001b[39mhandle \u001b[39m=\u001b[39m handle\n",
      "File \u001b[0;32m/Library/Frameworks/Python.framework/Versions/3.11/lib/python3.11/site-packages/xgboost/data.py:1089\u001b[0m, in \u001b[0;36mdispatch_data_backend\u001b[0;34m(data, missing, threads, feature_names, feature_types, enable_categorical, data_split_mode)\u001b[0m\n\u001b[1;32m   1087\u001b[0m     data \u001b[39m=\u001b[39m pd\u001b[39m.\u001b[39mDataFrame(data)\n\u001b[1;32m   1088\u001b[0m \u001b[39mif\u001b[39;00m _is_pandas_df(data):\n\u001b[0;32m-> 1089\u001b[0m     \u001b[39mreturn\u001b[39;00m _from_pandas_df(\n\u001b[1;32m   1090\u001b[0m         data, enable_categorical, missing, threads, feature_names, feature_types\n\u001b[1;32m   1091\u001b[0m     )\n\u001b[1;32m   1092\u001b[0m \u001b[39mif\u001b[39;00m _is_cudf_df(data) \u001b[39mor\u001b[39;00m _is_cudf_ser(data):\n\u001b[1;32m   1093\u001b[0m     \u001b[39mreturn\u001b[39;00m _from_cudf_df(\n\u001b[1;32m   1094\u001b[0m         data, missing, threads, feature_names, feature_types, enable_categorical\n\u001b[1;32m   1095\u001b[0m     )\n",
      "File \u001b[0;32m/Library/Frameworks/Python.framework/Versions/3.11/lib/python3.11/site-packages/xgboost/data.py:522\u001b[0m, in \u001b[0;36m_from_pandas_df\u001b[0;34m(data, enable_categorical, missing, nthread, feature_names, feature_types)\u001b[0m\n\u001b[1;32m    514\u001b[0m \u001b[39mdef\u001b[39;00m \u001b[39m_from_pandas_df\u001b[39m(\n\u001b[1;32m    515\u001b[0m     data: DataFrame,\n\u001b[1;32m    516\u001b[0m     enable_categorical: \u001b[39mbool\u001b[39m,\n\u001b[0;32m   (...)\u001b[0m\n\u001b[1;32m    520\u001b[0m     feature_types: Optional[FeatureTypes],\n\u001b[1;32m    521\u001b[0m ) \u001b[39m-\u001b[39m\u001b[39m>\u001b[39m DispatchedDataBackendReturnType:\n\u001b[0;32m--> 522\u001b[0m     data, feature_names, feature_types \u001b[39m=\u001b[39m _transform_pandas_df(\n\u001b[1;32m    523\u001b[0m         data, enable_categorical, feature_names, feature_types\n\u001b[1;32m    524\u001b[0m     )\n\u001b[1;32m    525\u001b[0m     \u001b[39mreturn\u001b[39;00m _from_numpy_array(data, missing, nthread, feature_names, feature_types)\n",
      "File \u001b[0;32m/Library/Frameworks/Python.framework/Versions/3.11/lib/python3.11/site-packages/xgboost/data.py:490\u001b[0m, in \u001b[0;36m_transform_pandas_df\u001b[0;34m(data, enable_categorical, feature_names, feature_types, meta, meta_type)\u001b[0m\n\u001b[1;32m    483\u001b[0m \u001b[39mfor\u001b[39;00m dtype \u001b[39min\u001b[39;00m data\u001b[39m.\u001b[39mdtypes:\n\u001b[1;32m    484\u001b[0m     \u001b[39mif\u001b[39;00m \u001b[39mnot\u001b[39;00m (\n\u001b[1;32m    485\u001b[0m         (dtype\u001b[39m.\u001b[39mname \u001b[39min\u001b[39;00m _pandas_dtype_mapper)\n\u001b[1;32m    486\u001b[0m         \u001b[39mor\u001b[39;00m is_pd_sparse_dtype(dtype)\n\u001b[1;32m    487\u001b[0m         \u001b[39mor\u001b[39;00m (is_pd_cat_dtype(dtype) \u001b[39mand\u001b[39;00m enable_categorical)\n\u001b[1;32m    488\u001b[0m         \u001b[39mor\u001b[39;00m is_pa_ext_dtype(dtype)\n\u001b[1;32m    489\u001b[0m     ):\n\u001b[0;32m--> 490\u001b[0m         _invalid_dataframe_dtype(data)\n\u001b[1;32m    491\u001b[0m     \u001b[39mif\u001b[39;00m is_pa_ext_dtype(dtype):\n\u001b[1;32m    492\u001b[0m         pyarrow_extension \u001b[39m=\u001b[39m \u001b[39mTrue\u001b[39;00m\n",
      "File \u001b[0;32m/Library/Frameworks/Python.framework/Versions/3.11/lib/python3.11/site-packages/xgboost/data.py:308\u001b[0m, in \u001b[0;36m_invalid_dataframe_dtype\u001b[0;34m(data)\u001b[0m\n\u001b[1;32m    306\u001b[0m type_err \u001b[39m=\u001b[39m \u001b[39m\"\u001b[39m\u001b[39mDataFrame.dtypes for data must be int, float, bool or category.\u001b[39m\u001b[39m\"\u001b[39m\n\u001b[1;32m    307\u001b[0m msg \u001b[39m=\u001b[39m \u001b[39mf\u001b[39m\u001b[39m\"\"\"\u001b[39m\u001b[39m{\u001b[39;00mtype_err\u001b[39m}\u001b[39;00m\u001b[39m \u001b[39m\u001b[39m{\u001b[39;00m_ENABLE_CAT_ERR\u001b[39m}\u001b[39;00m\u001b[39m \u001b[39m\u001b[39m{\u001b[39;00merr\u001b[39m}\u001b[39;00m\u001b[39m\"\"\"\u001b[39m\n\u001b[0;32m--> 308\u001b[0m \u001b[39mraise\u001b[39;00m \u001b[39mValueError\u001b[39;00m(msg)\n",
      "\u001b[0;31mValueError\u001b[0m: DataFrame.dtypes for data must be int, float, bool or category. When categorical type is supplied, The experimental DMatrix parameter`enable_categorical` must be set to `True`.  Invalid columns:longitude: object, latitude: object, housing_median_age: object, total_rooms: object, total_bedrooms: object, population: object, households: object, median_income: object"
     ]
    }
   ],
   "source": [
    "\n",
    "# Split the data into training and testing sets\n",
    "X = df.drop('median_house_value', axis=1)\n",
    "y = df['median_house_value']\n",
    "\n",
    "X_train, X_test, y_train, y_test = train_test_split(X, y, test_size=0.2, random_state=42)\n",
    "\n",
    "# Ensure valid column names\n",
    "X_train.columns = [str(col) for col in X_train.columns]\n",
    "\n",
    "# Create DMatrix\n",
    "dtrain = xgb.DMatrix(X_train, label=y_train)\n",
    "\n",
    "# Hyperparameters grid search\n",
    "param_grid = {\n",
    "    'eta': [0.01, 0.1, 0.2, 0.3],\n",
    "    'max_depth': [3, 6, 9],\n",
    "    'lambda': [1, 5]\n",
    "}\n",
    "\n",
    "cv_results = []\n",
    "\n",
    "for eta in param_grid['eta']:\n",
    "    for max_depth in param_grid['max_depth']:\n",
    "        for lam in param_grid['lambda']:\n",
    "            params = {\n",
    "                'objective': 'reg:squarederror',\n",
    "                'eval_metric': 'rmse',\n",
    "                'eta': eta,\n",
    "                'max_depth': max_depth,\n",
    "                'alpha': 0.1,\n",
    "                'lambda': lam\n",
    "            }\n",
    "\n",
    "            cv_model = xgb.cv(\n",
    "                params=params,\n",
    "                dtrain=dtrain,\n",
    "                num_boost_round=100,\n",
    "                nfold=5,\n",
    "                early_stopping_rounds=10,\n",
    "                verbose_eval=False\n",
    "            )\n",
    "\n",
    "            rmse = cv_model['test-rmse-mean'].iloc[-1]\n",
    "            cv_results.append({'eta': eta, 'max_depth': max_depth, 'lambda': lam, 'rmse': rmse})\n",
    "\n",
    "# View the results\n",
    "cv_results_df = pd.DataFrame(cv_results)\n",
    "print(cv_results_df)\n",
    "\n",
    "# Choose the best hyperparameters\n",
    "best_params = cv_results_df.loc[cv_results_df['rmse'].idxmin()]\n",
    "\n",
    "# Train the final model\n",
    "final_params = {\n",
    "    'objective': 'reg:squarederror',\n",
    "    'eval_metric': 'rmse',\n",
    "    'eta': best_params['eta'],\n",
    "    'max_depth': int(best_params['max_depth']),\n",
    "    'alpha': 0.1,\n",
    "    'lambda': best_params['lambda']\n",
    "}\n",
    "\n",
    "final_model = xgb.train(final_params, dtrain, num_boost_round=100)\n",
    "\n",
    "# Ensure valid column names for the test set\n",
    "X_test.columns = [str(col) for col in X_test.columns]\n",
    "\n",
    "# Evaluate the model on the test set\n",
    "dtest = xgb.DMatrix(X_test)\n",
    "\n",
    "predictions = final_model.predict(dtest)\n",
    "rmse = mean_squared_error(y_test, predictions, squared=False)\n",
    "print(f'Root Mean Squared Error on test set: {rmse}')\n"
   ]
  },
  {
   "cell_type": "code",
   "execution_count": 12,
   "id": "329f897d0b58bdc3",
   "metadata": {
    "ExecuteTime": {
     "end_time": "2024-01-02T19:11:54.948637500Z",
     "start_time": "2024-01-02T19:11:54.926643700Z"
    },
    "collapsed": false
   },
   "outputs": [],
   "source": [
    "X_train, X_test, y_train, y_test = train_test_split(X, y, test_size=0.2)"
   ]
  },
  {
   "cell_type": "code",
   "execution_count": 13,
   "id": "e1080be3891318a8",
   "metadata": {
    "ExecuteTime": {
     "end_time": "2024-01-02T19:06:46.126051700Z",
     "start_time": "2024-01-02T19:06:46.080052900Z"
    },
    "collapsed": false
   },
   "outputs": [
    {
     "name": "stdout",
     "output_type": "stream",
     "text": [
      "Root Mean Squared Error on test set: 117507.77326384487\n"
     ]
    }
   ],
   "source": [
    "dtrain = xgb.DMatrix(data=X_train, label=y_train)\n",
    "\n",
    "# Définir les hyperparamètres\n",
    "params = {\n",
    "    'eta': 0.2,\n",
    "    'max_depth': 9,\n",
    "    'lambda': 5,\n",
    "    'objective': 'reg:squarederror'\n",
    "}\n",
    "\n",
    "# Entraîner le modèle XGBoost\n",
    "num_boost_round = 100\n",
    "model = xgb.train(params=params, dtrain=dtrain, num_boost_round=num_boost_round)\n",
    "\n",
    "# Évaluer le modèle sur l'ensemble de test\n",
    "dtest = xgb.DMatrix(data=X_test, label=y_test)\n",
    "predictions = model.predict(dtest)\n",
    "rmse = mean_squared_error(y_test, predictions, squared=False)\n",
    "print(f'Root Mean Squared Error on test set: {rmse}')"
   ]
  },
  {
   "cell_type": "code",
   "execution_count": 14,
   "id": "d2cf856a58a58c59",
   "metadata": {
    "ExecuteTime": {
     "end_time": "2024-01-02T19:12:16.151210200Z",
     "start_time": "2024-01-02T19:12:14.839212Z"
    },
    "collapsed": false
   },
   "outputs": [],
   "source": [
    "model = xgb.train(params=params, dtrain=dtrain, num_boost_round=num_boost_round)\n"
   ]
  },
  {
   "cell_type": "code",
   "execution_count": 22,
   "id": "b106d2f5",
   "metadata": {},
   "outputs": [],
   "source": [
    "from sklearn.linear_model import LinearRegression"
   ]
  },
  {
   "cell_type": "code",
   "execution_count": 31,
   "id": "d97ecb57",
   "metadata": {},
   "outputs": [],
   "source": [
    "model = LinearRegression()"
   ]
  },
  {
   "cell_type": "code",
   "execution_count": 24,
   "id": "292ed9f5",
   "metadata": {},
   "outputs": [
    {
     "data": {
      "text/html": [
       "<style>#sk-container-id-1 {color: black;}#sk-container-id-1 pre{padding: 0;}#sk-container-id-1 div.sk-toggleable {background-color: white;}#sk-container-id-1 label.sk-toggleable__label {cursor: pointer;display: block;width: 100%;margin-bottom: 0;padding: 0.3em;box-sizing: border-box;text-align: center;}#sk-container-id-1 label.sk-toggleable__label-arrow:before {content: \"▸\";float: left;margin-right: 0.25em;color: #696969;}#sk-container-id-1 label.sk-toggleable__label-arrow:hover:before {color: black;}#sk-container-id-1 div.sk-estimator:hover label.sk-toggleable__label-arrow:before {color: black;}#sk-container-id-1 div.sk-toggleable__content {max-height: 0;max-width: 0;overflow: hidden;text-align: left;background-color: #f0f8ff;}#sk-container-id-1 div.sk-toggleable__content pre {margin: 0.2em;color: black;border-radius: 0.25em;background-color: #f0f8ff;}#sk-container-id-1 input.sk-toggleable__control:checked~div.sk-toggleable__content {max-height: 200px;max-width: 100%;overflow: auto;}#sk-container-id-1 input.sk-toggleable__control:checked~label.sk-toggleable__label-arrow:before {content: \"▾\";}#sk-container-id-1 div.sk-estimator input.sk-toggleable__control:checked~label.sk-toggleable__label {background-color: #d4ebff;}#sk-container-id-1 div.sk-label input.sk-toggleable__control:checked~label.sk-toggleable__label {background-color: #d4ebff;}#sk-container-id-1 input.sk-hidden--visually {border: 0;clip: rect(1px 1px 1px 1px);clip: rect(1px, 1px, 1px, 1px);height: 1px;margin: -1px;overflow: hidden;padding: 0;position: absolute;width: 1px;}#sk-container-id-1 div.sk-estimator {font-family: monospace;background-color: #f0f8ff;border: 1px dotted black;border-radius: 0.25em;box-sizing: border-box;margin-bottom: 0.5em;}#sk-container-id-1 div.sk-estimator:hover {background-color: #d4ebff;}#sk-container-id-1 div.sk-parallel-item::after {content: \"\";width: 100%;border-bottom: 1px solid gray;flex-grow: 1;}#sk-container-id-1 div.sk-label:hover label.sk-toggleable__label {background-color: #d4ebff;}#sk-container-id-1 div.sk-serial::before {content: \"\";position: absolute;border-left: 1px solid gray;box-sizing: border-box;top: 0;bottom: 0;left: 50%;z-index: 0;}#sk-container-id-1 div.sk-serial {display: flex;flex-direction: column;align-items: center;background-color: white;padding-right: 0.2em;padding-left: 0.2em;position: relative;}#sk-container-id-1 div.sk-item {position: relative;z-index: 1;}#sk-container-id-1 div.sk-parallel {display: flex;align-items: stretch;justify-content: center;background-color: white;position: relative;}#sk-container-id-1 div.sk-item::before, #sk-container-id-1 div.sk-parallel-item::before {content: \"\";position: absolute;border-left: 1px solid gray;box-sizing: border-box;top: 0;bottom: 0;left: 50%;z-index: -1;}#sk-container-id-1 div.sk-parallel-item {display: flex;flex-direction: column;z-index: 1;position: relative;background-color: white;}#sk-container-id-1 div.sk-parallel-item:first-child::after {align-self: flex-end;width: 50%;}#sk-container-id-1 div.sk-parallel-item:last-child::after {align-self: flex-start;width: 50%;}#sk-container-id-1 div.sk-parallel-item:only-child::after {width: 0;}#sk-container-id-1 div.sk-dashed-wrapped {border: 1px dashed gray;margin: 0 0.4em 0.5em 0.4em;box-sizing: border-box;padding-bottom: 0.4em;background-color: white;}#sk-container-id-1 div.sk-label label {font-family: monospace;font-weight: bold;display: inline-block;line-height: 1.2em;}#sk-container-id-1 div.sk-label-container {text-align: center;}#sk-container-id-1 div.sk-container {/* jupyter's `normalize.less` sets `[hidden] { display: none; }` but bootstrap.min.css set `[hidden] { display: none !important; }` so we also need the `!important` here to be able to override the default hidden behavior on the sphinx rendered scikit-learn.org. See: https://github.com/scikit-learn/scikit-learn/issues/21755 */display: inline-block !important;position: relative;}#sk-container-id-1 div.sk-text-repr-fallback {display: none;}</style><div id=\"sk-container-id-1\" class=\"sk-top-container\"><div class=\"sk-text-repr-fallback\"><pre>LinearRegression()</pre><b>In a Jupyter environment, please rerun this cell to show the HTML representation or trust the notebook. <br />On GitHub, the HTML representation is unable to render, please try loading this page with nbviewer.org.</b></div><div class=\"sk-container\" hidden><div class=\"sk-item\"><div class=\"sk-estimator sk-toggleable\"><input class=\"sk-toggleable__control sk-hidden--visually\" id=\"sk-estimator-id-1\" type=\"checkbox\" checked><label for=\"sk-estimator-id-1\" class=\"sk-toggleable__label sk-toggleable__label-arrow\">LinearRegression</label><div class=\"sk-toggleable__content\"><pre>LinearRegression()</pre></div></div></div></div></div>"
      ],
      "text/plain": [
       "LinearRegression()"
      ]
     },
     "execution_count": 24,
     "metadata": {},
     "output_type": "execute_result"
    }
   ],
   "source": [
    "model.fit(X_train, y_train)"
   ]
  },
  {
   "cell_type": "code",
   "execution_count": 25,
   "id": "38339766",
   "metadata": {},
   "outputs": [
    {
     "data": {
      "text/html": [
       "<style>#sk-container-id-2 {color: black;}#sk-container-id-2 pre{padding: 0;}#sk-container-id-2 div.sk-toggleable {background-color: white;}#sk-container-id-2 label.sk-toggleable__label {cursor: pointer;display: block;width: 100%;margin-bottom: 0;padding: 0.3em;box-sizing: border-box;text-align: center;}#sk-container-id-2 label.sk-toggleable__label-arrow:before {content: \"▸\";float: left;margin-right: 0.25em;color: #696969;}#sk-container-id-2 label.sk-toggleable__label-arrow:hover:before {color: black;}#sk-container-id-2 div.sk-estimator:hover label.sk-toggleable__label-arrow:before {color: black;}#sk-container-id-2 div.sk-toggleable__content {max-height: 0;max-width: 0;overflow: hidden;text-align: left;background-color: #f0f8ff;}#sk-container-id-2 div.sk-toggleable__content pre {margin: 0.2em;color: black;border-radius: 0.25em;background-color: #f0f8ff;}#sk-container-id-2 input.sk-toggleable__control:checked~div.sk-toggleable__content {max-height: 200px;max-width: 100%;overflow: auto;}#sk-container-id-2 input.sk-toggleable__control:checked~label.sk-toggleable__label-arrow:before {content: \"▾\";}#sk-container-id-2 div.sk-estimator input.sk-toggleable__control:checked~label.sk-toggleable__label {background-color: #d4ebff;}#sk-container-id-2 div.sk-label input.sk-toggleable__control:checked~label.sk-toggleable__label {background-color: #d4ebff;}#sk-container-id-2 input.sk-hidden--visually {border: 0;clip: rect(1px 1px 1px 1px);clip: rect(1px, 1px, 1px, 1px);height: 1px;margin: -1px;overflow: hidden;padding: 0;position: absolute;width: 1px;}#sk-container-id-2 div.sk-estimator {font-family: monospace;background-color: #f0f8ff;border: 1px dotted black;border-radius: 0.25em;box-sizing: border-box;margin-bottom: 0.5em;}#sk-container-id-2 div.sk-estimator:hover {background-color: #d4ebff;}#sk-container-id-2 div.sk-parallel-item::after {content: \"\";width: 100%;border-bottom: 1px solid gray;flex-grow: 1;}#sk-container-id-2 div.sk-label:hover label.sk-toggleable__label {background-color: #d4ebff;}#sk-container-id-2 div.sk-serial::before {content: \"\";position: absolute;border-left: 1px solid gray;box-sizing: border-box;top: 0;bottom: 0;left: 50%;z-index: 0;}#sk-container-id-2 div.sk-serial {display: flex;flex-direction: column;align-items: center;background-color: white;padding-right: 0.2em;padding-left: 0.2em;position: relative;}#sk-container-id-2 div.sk-item {position: relative;z-index: 1;}#sk-container-id-2 div.sk-parallel {display: flex;align-items: stretch;justify-content: center;background-color: white;position: relative;}#sk-container-id-2 div.sk-item::before, #sk-container-id-2 div.sk-parallel-item::before {content: \"\";position: absolute;border-left: 1px solid gray;box-sizing: border-box;top: 0;bottom: 0;left: 50%;z-index: -1;}#sk-container-id-2 div.sk-parallel-item {display: flex;flex-direction: column;z-index: 1;position: relative;background-color: white;}#sk-container-id-2 div.sk-parallel-item:first-child::after {align-self: flex-end;width: 50%;}#sk-container-id-2 div.sk-parallel-item:last-child::after {align-self: flex-start;width: 50%;}#sk-container-id-2 div.sk-parallel-item:only-child::after {width: 0;}#sk-container-id-2 div.sk-dashed-wrapped {border: 1px dashed gray;margin: 0 0.4em 0.5em 0.4em;box-sizing: border-box;padding-bottom: 0.4em;background-color: white;}#sk-container-id-2 div.sk-label label {font-family: monospace;font-weight: bold;display: inline-block;line-height: 1.2em;}#sk-container-id-2 div.sk-label-container {text-align: center;}#sk-container-id-2 div.sk-container {/* jupyter's `normalize.less` sets `[hidden] { display: none; }` but bootstrap.min.css set `[hidden] { display: none !important; }` so we also need the `!important` here to be able to override the default hidden behavior on the sphinx rendered scikit-learn.org. See: https://github.com/scikit-learn/scikit-learn/issues/21755 */display: inline-block !important;position: relative;}#sk-container-id-2 div.sk-text-repr-fallback {display: none;}</style><div id=\"sk-container-id-2\" class=\"sk-top-container\"><div class=\"sk-text-repr-fallback\"><pre>LinearRegression()</pre><b>In a Jupyter environment, please rerun this cell to show the HTML representation or trust the notebook. <br />On GitHub, the HTML representation is unable to render, please try loading this page with nbviewer.org.</b></div><div class=\"sk-container\" hidden><div class=\"sk-item\"><div class=\"sk-estimator sk-toggleable\"><input class=\"sk-toggleable__control sk-hidden--visually\" id=\"sk-estimator-id-2\" type=\"checkbox\" checked><label for=\"sk-estimator-id-2\" class=\"sk-toggleable__label sk-toggleable__label-arrow\">LinearRegression</label><div class=\"sk-toggleable__content\"><pre>LinearRegression()</pre></div></div></div></div></div>"
      ],
      "text/plain": [
       "LinearRegression()"
      ]
     },
     "execution_count": 25,
     "metadata": {},
     "output_type": "execute_result"
    }
   ],
   "source": [
    "model.fit(X, y)"
   ]
  },
  {
   "cell_type": "code",
   "execution_count": 26,
   "id": "d79d01aa",
   "metadata": {},
   "outputs": [],
   "source": [
    "s = joblib.dump(model, '../../src/models/linear_regression.joblib')"
   ]
  },
  {
   "cell_type": "code",
   "execution_count": 27,
   "id": "6a5d2b8a",
   "metadata": {},
   "outputs": [
    {
     "data": {
      "text/plain": [
       "array([[1, 2]])"
      ]
     },
     "execution_count": 27,
     "metadata": {},
     "output_type": "execute_result"
    }
   ],
   "source": [
    "np.array([[1, 2]])"
   ]
  },
  {
   "cell_type": "markdown",
   "id": "39c73ed9660a60dd",
   "metadata": {
    "collapsed": false
   },
   "source": [
    "## Save the model"
   ]
  },
  {
   "cell_type": "markdown",
   "id": "3421af29af0e71d3",
   "metadata": {
    "collapsed": false
   },
   "source": [
    "##### Train on all data"
   ]
  },
  {
   "cell_type": "code",
   "execution_count": 57,
   "id": "ddf2e936",
   "metadata": {},
   "outputs": [],
   "source": [
    "from xgboost import XGBRegressor\n",
    "import joblib\n",
    "\n",
    "modelbis = XGBRegressor(colsample_bytree = 0.7, learning_rate= 0.03, max_depth= 10, min_child_weight = 5, n_estimators = 300, nthread= 4, subsample= 0.7)\n",
    "\n",
    "X, y = df[cols].values, df['median_house_value'].values\n",
    "\n",
    "modelbis.fit(X, y)\n",
    "\n",
    "s2 = joblib.dump(modelbis, '../../src/models/xgboost.joblib')\n"
   ]
  },
  {
   "cell_type": "code",
   "execution_count": 53,
   "metadata": {},
   "outputs": [
    {
     "data": {
      "text/plain": [
       "array([170459.69, 246850.42, 265261.56, ..., 177779.94, 178927.89,\n",
       "       235284.55], dtype=float32)"
      ]
     },
     "execution_count": 53,
     "metadata": {},
     "output_type": "execute_result"
    }
   ],
   "source": [
    "model.predict(X)"
   ]
  },
  {
   "cell_type": "code",
   "execution_count": 15,
   "id": "57bfe93f738a88d1",
   "metadata": {
    "ExecuteTime": {
     "end_time": "2024-01-02T19:15:03.584591300Z",
     "start_time": "2024-01-02T19:15:03.518592300Z"
    },
    "collapsed": false
   },
   "outputs": [
    {
     "ename": "ValueError",
     "evalue": "DataFrame.dtypes for data must be int, float, bool or category. When categorical type is supplied, The experimental DMatrix parameter`enable_categorical` must be set to `True`.  Invalid columns:longitude: object, latitude: object, housing_median_age: object, total_rooms: object, total_bedrooms: object, population: object, households: object, median_income: object",
     "output_type": "error",
     "traceback": [
      "\u001b[0;31m---------------------------------------------------------------------------\u001b[0m",
      "\u001b[0;31mValueError\u001b[0m                                Traceback (most recent call last)",
      "Cell \u001b[0;32mIn[15], line 2\u001b[0m\n\u001b[1;32m      1\u001b[0m \u001b[39m# Créer la matrice DMatrix pour XGBoost avec toutes les données\u001b[39;00m\n\u001b[0;32m----> 2\u001b[0m dtrain_full \u001b[39m=\u001b[39m xgb\u001b[39m.\u001b[39;49mDMatrix(data\u001b[39m=\u001b[39;49mdf\u001b[39m.\u001b[39;49mdrop(\u001b[39m'\u001b[39;49m\u001b[39mmedian_house_value\u001b[39;49m\u001b[39m'\u001b[39;49m, axis\u001b[39m=\u001b[39;49m\u001b[39m1\u001b[39;49m), label\u001b[39m=\u001b[39;49mdf[\u001b[39m'\u001b[39;49m\u001b[39mmedian_house_value\u001b[39;49m\u001b[39m'\u001b[39;49m])\n\u001b[1;32m      4\u001b[0m \u001b[39m# Définir les hyperparamètres\u001b[39;00m\n\u001b[1;32m      5\u001b[0m params \u001b[39m=\u001b[39m {\n\u001b[1;32m      6\u001b[0m     \u001b[39m'\u001b[39m\u001b[39mobjective\u001b[39m\u001b[39m'\u001b[39m: \u001b[39m'\u001b[39m\u001b[39mreg:squarederror\u001b[39m\u001b[39m'\u001b[39m,\n\u001b[1;32m      7\u001b[0m     \u001b[39m'\u001b[39m\u001b[39meta\u001b[39m\u001b[39m'\u001b[39m: \u001b[39m0.2\u001b[39m,\n\u001b[1;32m      8\u001b[0m     \u001b[39m'\u001b[39m\u001b[39mmax_depth\u001b[39m\u001b[39m'\u001b[39m: \u001b[39m9\u001b[39m,\n\u001b[1;32m      9\u001b[0m     \u001b[39m'\u001b[39m\u001b[39mlambda\u001b[39m\u001b[39m'\u001b[39m: \u001b[39m5\u001b[39m\n\u001b[1;32m     10\u001b[0m }\n",
      "File \u001b[0;32m/Library/Frameworks/Python.framework/Versions/3.11/lib/python3.11/site-packages/xgboost/core.py:730\u001b[0m, in \u001b[0;36mrequire_keyword_args.<locals>.throw_if.<locals>.inner_f\u001b[0;34m(*args, **kwargs)\u001b[0m\n\u001b[1;32m    728\u001b[0m \u001b[39mfor\u001b[39;00m k, arg \u001b[39min\u001b[39;00m \u001b[39mzip\u001b[39m(sig\u001b[39m.\u001b[39mparameters, args):\n\u001b[1;32m    729\u001b[0m     kwargs[k] \u001b[39m=\u001b[39m arg\n\u001b[0;32m--> 730\u001b[0m \u001b[39mreturn\u001b[39;00m func(\u001b[39m*\u001b[39;49m\u001b[39m*\u001b[39;49mkwargs)\n",
      "File \u001b[0;32m/Library/Frameworks/Python.framework/Versions/3.11/lib/python3.11/site-packages/xgboost/core.py:857\u001b[0m, in \u001b[0;36mDMatrix.__init__\u001b[0;34m(self, data, label, weight, base_margin, missing, silent, feature_names, feature_types, nthread, group, qid, label_lower_bound, label_upper_bound, feature_weights, enable_categorical, data_split_mode)\u001b[0m\n\u001b[1;32m    854\u001b[0m     \u001b[39massert\u001b[39;00m \u001b[39mself\u001b[39m\u001b[39m.\u001b[39mhandle \u001b[39mis\u001b[39;00m \u001b[39mnot\u001b[39;00m \u001b[39mNone\u001b[39;00m\n\u001b[1;32m    855\u001b[0m     \u001b[39mreturn\u001b[39;00m\n\u001b[0;32m--> 857\u001b[0m handle, feature_names, feature_types \u001b[39m=\u001b[39m dispatch_data_backend(\n\u001b[1;32m    858\u001b[0m     data,\n\u001b[1;32m    859\u001b[0m     missing\u001b[39m=\u001b[39;49m\u001b[39mself\u001b[39;49m\u001b[39m.\u001b[39;49mmissing,\n\u001b[1;32m    860\u001b[0m     threads\u001b[39m=\u001b[39;49m\u001b[39mself\u001b[39;49m\u001b[39m.\u001b[39;49mnthread,\n\u001b[1;32m    861\u001b[0m     feature_names\u001b[39m=\u001b[39;49mfeature_names,\n\u001b[1;32m    862\u001b[0m     feature_types\u001b[39m=\u001b[39;49mfeature_types,\n\u001b[1;32m    863\u001b[0m     enable_categorical\u001b[39m=\u001b[39;49menable_categorical,\n\u001b[1;32m    864\u001b[0m     data_split_mode\u001b[39m=\u001b[39;49mdata_split_mode,\n\u001b[1;32m    865\u001b[0m )\n\u001b[1;32m    866\u001b[0m \u001b[39massert\u001b[39;00m handle \u001b[39mis\u001b[39;00m \u001b[39mnot\u001b[39;00m \u001b[39mNone\u001b[39;00m\n\u001b[1;32m    867\u001b[0m \u001b[39mself\u001b[39m\u001b[39m.\u001b[39mhandle \u001b[39m=\u001b[39m handle\n",
      "File \u001b[0;32m/Library/Frameworks/Python.framework/Versions/3.11/lib/python3.11/site-packages/xgboost/data.py:1089\u001b[0m, in \u001b[0;36mdispatch_data_backend\u001b[0;34m(data, missing, threads, feature_names, feature_types, enable_categorical, data_split_mode)\u001b[0m\n\u001b[1;32m   1087\u001b[0m     data \u001b[39m=\u001b[39m pd\u001b[39m.\u001b[39mDataFrame(data)\n\u001b[1;32m   1088\u001b[0m \u001b[39mif\u001b[39;00m _is_pandas_df(data):\n\u001b[0;32m-> 1089\u001b[0m     \u001b[39mreturn\u001b[39;00m _from_pandas_df(\n\u001b[1;32m   1090\u001b[0m         data, enable_categorical, missing, threads, feature_names, feature_types\n\u001b[1;32m   1091\u001b[0m     )\n\u001b[1;32m   1092\u001b[0m \u001b[39mif\u001b[39;00m _is_cudf_df(data) \u001b[39mor\u001b[39;00m _is_cudf_ser(data):\n\u001b[1;32m   1093\u001b[0m     \u001b[39mreturn\u001b[39;00m _from_cudf_df(\n\u001b[1;32m   1094\u001b[0m         data, missing, threads, feature_names, feature_types, enable_categorical\n\u001b[1;32m   1095\u001b[0m     )\n",
      "File \u001b[0;32m/Library/Frameworks/Python.framework/Versions/3.11/lib/python3.11/site-packages/xgboost/data.py:522\u001b[0m, in \u001b[0;36m_from_pandas_df\u001b[0;34m(data, enable_categorical, missing, nthread, feature_names, feature_types)\u001b[0m\n\u001b[1;32m    514\u001b[0m \u001b[39mdef\u001b[39;00m \u001b[39m_from_pandas_df\u001b[39m(\n\u001b[1;32m    515\u001b[0m     data: DataFrame,\n\u001b[1;32m    516\u001b[0m     enable_categorical: \u001b[39mbool\u001b[39m,\n\u001b[0;32m   (...)\u001b[0m\n\u001b[1;32m    520\u001b[0m     feature_types: Optional[FeatureTypes],\n\u001b[1;32m    521\u001b[0m ) \u001b[39m-\u001b[39m\u001b[39m>\u001b[39m DispatchedDataBackendReturnType:\n\u001b[0;32m--> 522\u001b[0m     data, feature_names, feature_types \u001b[39m=\u001b[39m _transform_pandas_df(\n\u001b[1;32m    523\u001b[0m         data, enable_categorical, feature_names, feature_types\n\u001b[1;32m    524\u001b[0m     )\n\u001b[1;32m    525\u001b[0m     \u001b[39mreturn\u001b[39;00m _from_numpy_array(data, missing, nthread, feature_names, feature_types)\n",
      "File \u001b[0;32m/Library/Frameworks/Python.framework/Versions/3.11/lib/python3.11/site-packages/xgboost/data.py:490\u001b[0m, in \u001b[0;36m_transform_pandas_df\u001b[0;34m(data, enable_categorical, feature_names, feature_types, meta, meta_type)\u001b[0m\n\u001b[1;32m    483\u001b[0m \u001b[39mfor\u001b[39;00m dtype \u001b[39min\u001b[39;00m data\u001b[39m.\u001b[39mdtypes:\n\u001b[1;32m    484\u001b[0m     \u001b[39mif\u001b[39;00m \u001b[39mnot\u001b[39;00m (\n\u001b[1;32m    485\u001b[0m         (dtype\u001b[39m.\u001b[39mname \u001b[39min\u001b[39;00m _pandas_dtype_mapper)\n\u001b[1;32m    486\u001b[0m         \u001b[39mor\u001b[39;00m is_pd_sparse_dtype(dtype)\n\u001b[1;32m    487\u001b[0m         \u001b[39mor\u001b[39;00m (is_pd_cat_dtype(dtype) \u001b[39mand\u001b[39;00m enable_categorical)\n\u001b[1;32m    488\u001b[0m         \u001b[39mor\u001b[39;00m is_pa_ext_dtype(dtype)\n\u001b[1;32m    489\u001b[0m     ):\n\u001b[0;32m--> 490\u001b[0m         _invalid_dataframe_dtype(data)\n\u001b[1;32m    491\u001b[0m     \u001b[39mif\u001b[39;00m is_pa_ext_dtype(dtype):\n\u001b[1;32m    492\u001b[0m         pyarrow_extension \u001b[39m=\u001b[39m \u001b[39mTrue\u001b[39;00m\n",
      "File \u001b[0;32m/Library/Frameworks/Python.framework/Versions/3.11/lib/python3.11/site-packages/xgboost/data.py:308\u001b[0m, in \u001b[0;36m_invalid_dataframe_dtype\u001b[0;34m(data)\u001b[0m\n\u001b[1;32m    306\u001b[0m type_err \u001b[39m=\u001b[39m \u001b[39m\"\u001b[39m\u001b[39mDataFrame.dtypes for data must be int, float, bool or category.\u001b[39m\u001b[39m\"\u001b[39m\n\u001b[1;32m    307\u001b[0m msg \u001b[39m=\u001b[39m \u001b[39mf\u001b[39m\u001b[39m\"\"\"\u001b[39m\u001b[39m{\u001b[39;00mtype_err\u001b[39m}\u001b[39;00m\u001b[39m \u001b[39m\u001b[39m{\u001b[39;00m_ENABLE_CAT_ERR\u001b[39m}\u001b[39;00m\u001b[39m \u001b[39m\u001b[39m{\u001b[39;00merr\u001b[39m}\u001b[39;00m\u001b[39m\"\"\"\u001b[39m\n\u001b[0;32m--> 308\u001b[0m \u001b[39mraise\u001b[39;00m \u001b[39mValueError\u001b[39;00m(msg)\n",
      "\u001b[0;31mValueError\u001b[0m: DataFrame.dtypes for data must be int, float, bool or category. When categorical type is supplied, The experimental DMatrix parameter`enable_categorical` must be set to `True`.  Invalid columns:longitude: object, latitude: object, housing_median_age: object, total_rooms: object, total_bedrooms: object, population: object, households: object, median_income: object"
     ]
    }
   ],
   "source": [
    "\n",
    "# Créer la matrice DMatrix pour XGBoost avec toutes les données\n",
    "dtrain_full = xgb.DMatrix(data=df.drop('median_house_value', axis=1), label=df['median_house_value'])\n",
    "\n",
    "# Définir les hyperparamètres\n",
    "params = {\n",
    "    'objective': 'reg:squarederror',\n",
    "    'eta': 0.2,\n",
    "    'max_depth': 9,\n",
    "    'lambda': 5\n",
    "}\n",
    "\n",
    "# Nombre d'itérations (boosting rounds)\n",
    "num_boost_round = 100\n",
    "\n",
    "# Entraîner le modèle XGBoost sur toutes les données\n",
    "xgb_model = xgb.train(params=params, dtrain=dtrain_full, num_boost_round=num_boost_round)\n",
    "\n"
   ]
  },
  {
   "cell_type": "code",
   "execution_count": 17,
   "id": "28655b65",
   "metadata": {},
   "outputs": [],
   "source": [
    "import pandas as pd\n",
    "import xgboost as xgb\n",
    "\n",
    "# Assuming df is your DataFrame\n",
    "\n",
    "# Convert object columns to numeric\n",
    "df_numeric = df.apply(pd.to_numeric, errors='coerce')\n",
    "\n",
    "# Handle missing values if needed\n",
    "df_numeric.fillna(0, inplace=True)\n",
    "\n",
    "# Create DMatrix\n",
    "dtrain_full = xgb.DMatrix(data=df_numeric.drop('median_house_value', axis=1), label=df_numeric['median_house_value'])\n",
    "\n",
    "# Define hyperparameters\n",
    "params = {\n",
    "    'objective': 'reg:squarederror',\n",
    "    'eta': 0.2,\n",
    "    'max_depth': 9,\n",
    "    'lambda': 5\n",
    "}\n",
    "\n",
    "# Number of boosting rounds\n",
    "num_boost_round = 100\n",
    "\n",
    "# Train the XGBoost model\n",
    "xgb_model2 = xgb.train(params=params, dtrain=dtrain_full, num_boost_round=num_boost_round)\n"
   ]
  },
  {
   "cell_type": "code",
   "execution_count": 19,
   "id": "1931d313fe1ab035",
   "metadata": {
    "ExecuteTime": {
     "end_time": "2024-01-02T19:17:31.433770200Z",
     "start_time": "2024-01-02T19:17:31.406771400Z"
    },
    "collapsed": false
   },
   "outputs": [],
   "source": [
    "import joblib"
   ]
  },
  {
   "cell_type": "code",
   "execution_count": 20,
   "id": "5ee6111e8d65f8e4",
   "metadata": {
    "ExecuteTime": {
     "end_time": "2024-01-02T19:17:32.008757200Z",
     "start_time": "2024-01-02T19:17:31.951754600Z"
    },
    "collapsed": false
   },
   "outputs": [],
   "source": [
    "s = joblib.dump(xgb_model2, '../../src/models/xgboost2.joblib')"
   ]
  },
  {
   "cell_type": "code",
   "execution_count": null,
   "id": "371a13e8609cb8f6",
   "metadata": {
    "ExecuteTime": {
     "end_time": "2024-01-02T20:44:36.278209700Z",
     "start_time": "2024-01-02T20:44:35.817176200Z"
    },
    "collapsed": false
   },
   "outputs": [],
   "source": [
    "np.array([[1, 2]])"
   ]
  },
  {
   "cell_type": "code",
   "execution_count": null,
   "id": "4a3f2d50",
   "metadata": {},
   "outputs": [],
   "source": [
    "import os\n",
    "# Specify the desired working directory path\n",
    "new_working_directory = '/Users/coraline/Desktop/amse-myapp/amse-myapp-main/src'\n",
    "\n",
    "# Change the working directory\n",
    "os.chdir(new_working_directory)"
   ]
  },
  {
   "cell_type": "code",
   "execution_count": null,
   "id": "01233d59",
   "metadata": {},
   "outputs": [],
   "source": [
    "# Entraîner le modèle\n",
    "X = df.drop('median_house_value', axis=1)\n",
    "y = df['median_house_value']\n",
    "\n",
    "# Vous devez définir vos propres hyperparamètres\n",
    "params = {\n",
    "    'objective': 'reg:squarederror',\n",
    "    'eval_metric': 'rmse',\n",
    "    'eta': 0.1,\n",
    "    'max_depth': 3,\n",
    "    'alpha': 0.1,\n",
    "    'lambda': 1\n",
    "}\n",
    "\n",
    "model = xgb.train(params, xgb.DMatrix(X, label=y), num_boost_round=100)\n",
    "\n",
    "# Sauvegarder le modèle\n",
    "model.save_model('../src/models/xgboost_mo.model')\n"
   ]
  },
  {
   "cell_type": "code",
   "execution_count": null,
   "id": "fdb424d9",
   "metadata": {},
   "outputs": [],
   "source": [
    "from dash import html, dcc, Input, Output, State, callback\n",
    "import dash\n",
    "\n",
    "PreventUpdate = dash.no_update\n"
   ]
  }
 ],
 "metadata": {
  "kernelspec": {
   "display_name": "Python 3",
   "language": "python",
   "name": "python3"
  },
  "language_info": {
   "codemirror_mode": {
    "name": "ipython",
    "version": 3
   },
   "file_extension": ".py",
   "mimetype": "text/x-python",
   "name": "python",
   "nbconvert_exporter": "python",
   "pygments_lexer": "ipython3",
   "version": "3.11.5"
  }
 },
 "nbformat": 4,
 "nbformat_minor": 5
}
